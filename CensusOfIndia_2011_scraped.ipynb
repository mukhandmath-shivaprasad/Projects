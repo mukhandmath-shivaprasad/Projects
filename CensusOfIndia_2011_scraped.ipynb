{
 "cells": [
  {
   "cell_type": "code",
   "execution_count": 1,
   "metadata": {
    "id": "voxPrMSp69sd"
   },
   "outputs": [],
   "source": [
    "import pandas as pd\n",
    "from bs4 import BeautifulSoup as bs\n",
    "import requests"
   ]
  },
  {
   "cell_type": "code",
   "execution_count": 2,
   "metadata": {
    "id": "JLJwaAEI69ss"
   },
   "outputs": [],
   "source": [
    "# url = \"https://www.worldometers.info/world-population/#:~:text=Population%20in%20the%20world%20is,it%20was%20at%20around%202%25.\"\n",
    "url = 'https://censusindia.co.in/districts'\n",
    "result = requests.get(url)"
   ]
  },
  {
   "cell_type": "markdown",
   "metadata": {
    "id": "krGrncFG7FTf"
   },
   "source": [
    "Create a Soup Object"
   ]
  },
  {
   "cell_type": "code",
   "execution_count": 3,
   "metadata": {
    "id": "g5q4y-UI69sv"
   },
   "outputs": [],
   "source": [
    "soup = bs(result.text, 'html.parser')\n",
    "# soup"
   ]
  },
  {
   "cell_type": "code",
   "execution_count": 22,
   "metadata": {
    "colab": {
     "base_uri": "https://localhost:8080/"
    },
    "id": "EVT661Oq69s1",
    "outputId": "c50f358f-b608-465e-9937-df149a28c977"
   },
   "outputs": [
    {
     "name": "stdout",
     "output_type": "stream",
     "text": [
      "Classe of table\n",
      "['table', 'table-striped']\n"
     ]
    }
   ],
   "source": [
    "print('Classe of table')\n",
    "for table in soup.find_all('table'):\n",
    "    print(table.get('class'))"
   ]
  },
  {
   "cell_type": "code",
   "execution_count": 14,
   "metadata": {
    "colab": {
     "base_uri": "https://localhost:8080/"
    },
    "id": "kq2MnSm569s4",
    "outputId": "36ed4435-cb61-4c50-cf2d-7317db5a6b72"
   },
   "outputs": [],
   "source": [
    "table = soup.find_all('table', attrs={\"class\" :'table-striped'})\n",
    "# print(len(table))\n",
    "tables = soup.find('table', class_ = 'table table-striped')\n",
    "# print(len(tables))"
   ]
  },
  {
   "cell_type": "code",
   "execution_count": null,
   "metadata": {
    "id": "upl6yzqb7Vwc"
   },
   "outputs": [],
   "source": [
    "# type(table)"
   ]
  },
  {
   "cell_type": "code",
   "execution_count": 15,
   "metadata": {
    "colab": {
     "base_uri": "https://localhost:8080/"
    },
    "id": "uMPcBmBA69s7",
    "outputId": "632c9692-80f9-4aeb-e4c2-9616107ea9ff"
   },
   "outputs": [],
   "source": [
    "table1 = table[0]\n",
    "\n",
    "body = table1.find_all('tr')\n",
    "\n",
    "head = body[0]\n",
    "\n",
    "body_rows = body[1:]"
   ]
  },
  {
   "cell_type": "code",
   "execution_count": 16,
   "metadata": {
    "colab": {
     "base_uri": "https://localhost:8080/"
    },
    "id": "HdSemzm-EYXI",
    "outputId": "7bad4ab9-e03f-4e82-b8c3-4bc7eba36a35"
   },
   "outputs": [
    {
     "name": "stdout",
     "output_type": "stream",
     "text": [
      "['#', 'District', 'Sub-districts', 'State', 'Area (km2)', 'Population', 'Literacy']\n"
     ]
    }
   ],
   "source": [
    "headings = []\n",
    "for item in head.find_all('th'):\n",
    "  item = item.text.rstrip(\"\\n\")\n",
    "  headings.append(item)\n",
    "print(headings)"
   ]
  },
  {
   "cell_type": "code",
   "execution_count": 17,
   "metadata": {
    "colab": {
     "base_uri": "https://localhost:8080/"
    },
    "id": "Fnlb_FFPFstS",
    "outputId": "fdda73e7-7f9a-46de-bbe4-a03cbec04c02"
   },
   "outputs": [
    {
     "name": "stdout",
     "output_type": "stream",
     "text": [
      "<tr>\n",
      "<td>1</td>\n",
      "<td><a href=\"/district/adilabad-district-andhra-pradesh-532\" title=\"Adilabad District Population - Andhra Pradesh\">Adilabad</a></td>\n",
      "<td><a href=\"/subdistricts/mandals-adilabad-district-andhra-pradesh-532\" title=\"List of Mandals in Adilabad district\">Mandals</a></td>\n",
      "<td>Andhra Pradesh</td>\n",
      "<td>16,105</td>\n",
      "<td>\n",
      "2,741,239\n",
      "</td>\n",
      "<td>\n",
      "61.01%\n",
      "</td>\n",
      "</tr>\n"
     ]
    }
   ],
   "source": [
    "print(body_rows[0])"
   ]
  },
  {
   "cell_type": "code",
   "execution_count": 18,
   "metadata": {
    "id": "U9Ubu8aqFfgy"
   },
   "outputs": [],
   "source": [
    "import re\n",
    "all_rows = []\n",
    "for row_num in range(len(body_rows)):\n",
    "  row = []\n",
    "  for row_item in body_rows[row_num].find_all('td'):\n",
    "    aa = re.sub(\"(\\xa0)|(\\n)|,|%\",\"\",row_item.text)\n",
    "    # row_item.text removes the tags from the entries\n",
    "    # xa0 encodes the flag, \\n is the newline, comma separates thousands in numbers and % removes percentage in the last column\n",
    "    row.append(aa)\n",
    "  all_rows.append(row)"
   ]
  },
  {
   "cell_type": "code",
   "execution_count": 19,
   "metadata": {
    "colab": {
     "base_uri": "https://localhost:8080/"
    },
    "id": "RQsBf2qJHhK9",
    "outputId": "4fb5ae3c-90d5-4e0a-a100-3ff57069d7f5"
   },
   "outputs": [
    {
     "name": "stdout",
     "output_type": "stream",
     "text": [
      "['1', 'Adilabad', 'Mandals', 'Andhra Pradesh', '16105', '2741239', '61.01']\n"
     ]
    }
   ],
   "source": [
    "print(all_rows[0])"
   ]
  },
  {
   "cell_type": "code",
   "execution_count": 20,
   "metadata": {
    "colab": {
     "base_uri": "https://localhost:8080/",
     "height": 206
    },
    "id": "kP4tRlMFJ_bd",
    "outputId": "a87c56f3-2db6-48d0-f89d-9f4a5b24233e"
   },
   "outputs": [
    {
     "data": {
      "text/html": [
       "<div>\n",
       "<style scoped>\n",
       "    .dataframe tbody tr th:only-of-type {\n",
       "        vertical-align: middle;\n",
       "    }\n",
       "\n",
       "    .dataframe tbody tr th {\n",
       "        vertical-align: top;\n",
       "    }\n",
       "\n",
       "    .dataframe thead th {\n",
       "        text-align: right;\n",
       "    }\n",
       "</style>\n",
       "<table border=\"1\" class=\"dataframe\">\n",
       "  <thead>\n",
       "    <tr style=\"text-align: right;\">\n",
       "      <th></th>\n",
       "      <th>#</th>\n",
       "      <th>District</th>\n",
       "      <th>Sub-districts</th>\n",
       "      <th>State</th>\n",
       "      <th>Area (km2)</th>\n",
       "      <th>Population</th>\n",
       "      <th>Literacy</th>\n",
       "    </tr>\n",
       "  </thead>\n",
       "  <tbody>\n",
       "    <tr>\n",
       "      <th>0</th>\n",
       "      <td>1</td>\n",
       "      <td>Adilabad</td>\n",
       "      <td>Mandals</td>\n",
       "      <td>Andhra Pradesh</td>\n",
       "      <td>16105</td>\n",
       "      <td>2741239</td>\n",
       "      <td>61.01</td>\n",
       "    </tr>\n",
       "    <tr>\n",
       "      <th>1</th>\n",
       "      <td>2</td>\n",
       "      <td>Agra</td>\n",
       "      <td>Tehsils</td>\n",
       "      <td>Uttar Pradesh</td>\n",
       "      <td>4041</td>\n",
       "      <td>4418797</td>\n",
       "      <td>71.58</td>\n",
       "    </tr>\n",
       "    <tr>\n",
       "      <th>2</th>\n",
       "      <td>3</td>\n",
       "      <td>Ahmadabad</td>\n",
       "      <td>Talukas</td>\n",
       "      <td>Gujarat</td>\n",
       "      <td>8107</td>\n",
       "      <td>7214225</td>\n",
       "      <td>85.31</td>\n",
       "    </tr>\n",
       "    <tr>\n",
       "      <th>3</th>\n",
       "      <td>4</td>\n",
       "      <td>Ahmadnagar</td>\n",
       "      <td>Talukas</td>\n",
       "      <td>Maharashtra</td>\n",
       "      <td>17048</td>\n",
       "      <td>4543159</td>\n",
       "      <td>79.05</td>\n",
       "    </tr>\n",
       "    <tr>\n",
       "      <th>4</th>\n",
       "      <td>5</td>\n",
       "      <td>Aizawl</td>\n",
       "      <td>Blocks</td>\n",
       "      <td>Mizoram</td>\n",
       "      <td>3576</td>\n",
       "      <td>400309</td>\n",
       "      <td>97.89</td>\n",
       "    </tr>\n",
       "  </tbody>\n",
       "</table>\n",
       "</div>"
      ],
      "text/plain": [
       "   #    District Sub-districts           State Area (km2) Population Literacy\n",
       "0  1    Adilabad       Mandals  Andhra Pradesh      16105    2741239    61.01\n",
       "1  2        Agra       Tehsils   Uttar Pradesh       4041    4418797    71.58\n",
       "2  3   Ahmadabad       Talukas         Gujarat       8107    7214225    85.31\n",
       "3  4  Ahmadnagar       Talukas     Maharashtra      17048    4543159    79.05\n",
       "4  5      Aizawl        Blocks         Mizoram       3576     400309    97.89"
      ]
     },
     "execution_count": 20,
     "metadata": {},
     "output_type": "execute_result"
    }
   ],
   "source": [
    "df = pd.DataFrame(data = all_rows, columns=headings)\n",
    "df.head()"
   ]
  },
  {
   "cell_type": "code",
   "execution_count": 21,
   "metadata": {
    "id": "F_E6qkaf69tJ"
   },
   "outputs": [],
   "source": [
    "df.to_excel('Census.xlsx', index = False)"
   ]
  },
  {
   "cell_type": "code",
   "execution_count": null,
   "metadata": {},
   "outputs": [],
   "source": []
  }
 ],
 "metadata": {
  "colab": {
   "collapsed_sections": [],
   "name": "Copy of census.ipynb",
   "provenance": []
  },
  "interpreter": {
   "hash": "3d846d80525939fc67cf21a1222fcca1daba31c8fddd2ba1792ca86a1af098cb"
  },
  "kernelspec": {
   "display_name": "Python 3 (ipykernel)",
   "language": "python",
   "name": "python3"
  },
  "language_info": {
   "codemirror_mode": {
    "name": "ipython",
    "version": 3
   },
   "file_extension": ".py",
   "mimetype": "text/x-python",
   "name": "python",
   "nbconvert_exporter": "python",
   "pygments_lexer": "ipython3",
   "version": "3.9.7"
  }
 },
 "nbformat": 4,
 "nbformat_minor": 1
}
