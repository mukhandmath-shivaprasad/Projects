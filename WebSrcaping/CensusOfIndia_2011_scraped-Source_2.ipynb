{
 "cells": [
  {
   "cell_type": "code",
   "execution_count": 2,
   "metadata": {
    "id": "voxPrMSp69sd"
   },
   "outputs": [],
   "source": [
    "import pandas as pd\n",
    "from bs4 import BeautifulSoup as bs\n",
    "import requests"
   ]
  },
  {
   "cell_type": "markdown",
   "metadata": {},
   "source": [
    "**This url incldes Census data of India for the year 2011**\n",
    "Features included are:\n",
    "* District\n",
    "* State\n",
    "* Population\n",
    "* Growth\n",
    "* Sex-Ratio and \n",
    "* Literacy"
   ]
  },
  {
   "cell_type": "code",
   "execution_count": 3,
   "metadata": {
    "id": "JLJwaAEI69ss"
   },
   "outputs": [],
   "source": [
    "url = 'https://www.census2011.co.in/district.php'\n",
    "result = requests.get(url)"
   ]
  },
  {
   "cell_type": "markdown",
   "metadata": {
    "id": "krGrncFG7FTf"
   },
   "source": [
    "Create a Soup Object"
   ]
  },
  {
   "cell_type": "code",
   "execution_count": 7,
   "metadata": {
    "id": "g5q4y-UI69sv"
   },
   "outputs": [],
   "source": [
    "soup = bs(result.text, 'lxml')\n",
    "# soup"
   ]
  },
  {
   "cell_type": "code",
   "execution_count": 11,
   "metadata": {},
   "outputs": [
    {
     "name": "stdout",
     "output_type": "stream",
     "text": [
      "Class of table\n",
      "['filter', 'table', 'table-striped', 'table-hover']\n"
     ]
    }
   ],
   "source": [
    "print('Class of table')\n",
    "for table in soup.find_all('table'):\n",
    "    print(table.get('class'))"
   ]
  },
  {
   "cell_type": "code",
   "execution_count": 12,
   "metadata": {},
   "outputs": [
    {
     "name": "stdout",
     "output_type": "stream",
     "text": [
      "1\n"
     ]
    }
   ],
   "source": [
    "table = soup.find_all('table', attrs={'class': 'table-striped'})\n",
    "print(len(table))"
   ]
  },
  {
   "cell_type": "code",
   "execution_count": 20,
   "metadata": {},
   "outputs": [],
   "source": [
    "head = table[0].find_all('tr')[0]\n",
    "body_rows = table[0].find_all('tr')[1:]"
   ]
  },
  {
   "cell_type": "code",
   "execution_count": 24,
   "metadata": {},
   "outputs": [
    {
     "name": "stdout",
     "output_type": "stream",
     "text": [
      "<tr>\n",
      "<th class=\"srno\">#</th>\n",
      "<th class=\"alignleft\">District</th>\n",
      "<th class=\"alignleft\">State</th>\n",
      "<th>Population</th>\n",
      "<th>Growth</th>\n",
      "<th>Sex-Ratio</th>\n",
      "<th>Literacy</th>\n",
      "</tr>\n"
     ]
    }
   ],
   "source": [
    "print(head)"
   ]
  },
  {
   "cell_type": "code",
   "execution_count": 23,
   "metadata": {
    "scrolled": true
   },
   "outputs": [
    {
     "name": "stdout",
     "output_type": "stream",
     "text": [
      "<tr>\n",
      "<td>1</td>\n",
      "<td class=\"alignleft\"><a href=\"/census/district/355-thane.html\" title=\"Thane\">Thane</a></td>\n",
      "<td class=\"alignleft\"><a href=\"/census/state/districtlist/maharashtra.html\">Maharashtra</a></td>\n",
      "<td>11,060,148</td>\n",
      "<td>36.01 %</td>\n",
      "<td>886</td>\n",
      "<td>84.53</td>\n",
      "</tr>\n"
     ]
    }
   ],
   "source": [
    "print(body_rows[0])"
   ]
  },
  {
   "cell_type": "code",
   "execution_count": 26,
   "metadata": {},
   "outputs": [
    {
     "name": "stdout",
     "output_type": "stream",
     "text": [
      "['#', 'District', 'State', 'Population', 'Growth', 'Sex-Ratio', 'Literacy']\n"
     ]
    }
   ],
   "source": [
    "headings = []\n",
    "for item in head.find_all('th'):\n",
    "    item = item.text.strip('\\n')\n",
    "#     print(item)\n",
    "    headings.append(item)\n",
    "print(headings)"
   ]
  },
  {
   "cell_type": "code",
   "execution_count": 39,
   "metadata": {},
   "outputs": [],
   "source": [
    "import re\n",
    "all_rows = []\n",
    "for row_num in range(len(body_rows)):\n",
    "    row = []\n",
    "    for row_item in body_rows[row_num].find_all('td'):\n",
    "        clean_item = re.sub(\"(\\xa0) |(\\n)|,|%\", \"\", row_item.text) # careful with comma- dont provide space before or after comma\n",
    "        row.append(clean_item)\n",
    "    all_rows.append(row)\n",
    "        "
   ]
  },
  {
   "cell_type": "code",
   "execution_count": 40,
   "metadata": {},
   "outputs": [
    {
     "data": {
      "text/plain": [
       "['1', 'Thane', 'Maharashtra', '11060148', '36.01 ', '886', '84.53']"
      ]
     },
     "execution_count": 40,
     "metadata": {},
     "output_type": "execute_result"
    }
   ],
   "source": [
    "all_rows[0]"
   ]
  },
  {
   "cell_type": "code",
   "execution_count": 41,
   "metadata": {},
   "outputs": [
    {
     "data": {
      "text/html": [
       "<div>\n",
       "<style scoped>\n",
       "    .dataframe tbody tr th:only-of-type {\n",
       "        vertical-align: middle;\n",
       "    }\n",
       "\n",
       "    .dataframe tbody tr th {\n",
       "        vertical-align: top;\n",
       "    }\n",
       "\n",
       "    .dataframe thead th {\n",
       "        text-align: right;\n",
       "    }\n",
       "</style>\n",
       "<table border=\"1\" class=\"dataframe\">\n",
       "  <thead>\n",
       "    <tr style=\"text-align: right;\">\n",
       "      <th></th>\n",
       "      <th>#</th>\n",
       "      <th>District</th>\n",
       "      <th>State</th>\n",
       "      <th>Population</th>\n",
       "      <th>Growth</th>\n",
       "      <th>Sex-Ratio</th>\n",
       "      <th>Literacy</th>\n",
       "    </tr>\n",
       "  </thead>\n",
       "  <tbody>\n",
       "    <tr>\n",
       "      <th>0</th>\n",
       "      <td>1</td>\n",
       "      <td>Thane</td>\n",
       "      <td>Maharashtra</td>\n",
       "      <td>11060148</td>\n",
       "      <td>36.01</td>\n",
       "      <td>886</td>\n",
       "      <td>84.53</td>\n",
       "    </tr>\n",
       "    <tr>\n",
       "      <th>1</th>\n",
       "      <td>2</td>\n",
       "      <td>North Twenty Four Parganas</td>\n",
       "      <td>West Bengal</td>\n",
       "      <td>10009781</td>\n",
       "      <td>12.04</td>\n",
       "      <td>955</td>\n",
       "      <td>84.06</td>\n",
       "    </tr>\n",
       "    <tr>\n",
       "      <th>2</th>\n",
       "      <td>3</td>\n",
       "      <td>Bangalore</td>\n",
       "      <td>Karnataka</td>\n",
       "      <td>9621551</td>\n",
       "      <td>47.18</td>\n",
       "      <td>916</td>\n",
       "      <td>87.67</td>\n",
       "    </tr>\n",
       "    <tr>\n",
       "      <th>3</th>\n",
       "      <td>4</td>\n",
       "      <td>Pune</td>\n",
       "      <td>Maharashtra</td>\n",
       "      <td>9429408</td>\n",
       "      <td>30.37</td>\n",
       "      <td>915</td>\n",
       "      <td>86.15</td>\n",
       "    </tr>\n",
       "    <tr>\n",
       "      <th>4</th>\n",
       "      <td>5</td>\n",
       "      <td>Mumbai Suburban</td>\n",
       "      <td>Maharashtra</td>\n",
       "      <td>9356962</td>\n",
       "      <td>8.29</td>\n",
       "      <td>860</td>\n",
       "      <td>89.91</td>\n",
       "    </tr>\n",
       "  </tbody>\n",
       "</table>\n",
       "</div>"
      ],
      "text/plain": [
       "   #                    District        State Population  Growth Sex-Ratio  \\\n",
       "0  1                       Thane  Maharashtra   11060148  36.01        886   \n",
       "1  2  North Twenty Four Parganas  West Bengal   10009781  12.04        955   \n",
       "2  3                   Bangalore    Karnataka    9621551  47.18        916   \n",
       "3  4                        Pune  Maharashtra    9429408  30.37        915   \n",
       "4  5             Mumbai Suburban  Maharashtra    9356962   8.29        860   \n",
       "\n",
       "  Literacy  \n",
       "0    84.53  \n",
       "1    84.06  \n",
       "2    87.67  \n",
       "3    86.15  \n",
       "4    89.91  "
      ]
     },
     "execution_count": 41,
     "metadata": {},
     "output_type": "execute_result"
    }
   ],
   "source": [
    "data = pd.DataFrame(data = all_rows, columns=headings)\n",
    "data.head()\n"
   ]
  },
  {
   "cell_type": "code",
   "execution_count": 42,
   "metadata": {},
   "outputs": [
    {
     "data": {
      "text/plain": [
       "(640, 7)"
      ]
     },
     "execution_count": 42,
     "metadata": {},
     "output_type": "execute_result"
    }
   ],
   "source": [
    "data.shape"
   ]
  },
  {
   "cell_type": "code",
   "execution_count": 43,
   "metadata": {},
   "outputs": [],
   "source": [
    "data.to_excel('CensusOfIndia_2011_scraped-Source_2.xlsx', index = False)"
   ]
  },
  {
   "cell_type": "code",
   "execution_count": null,
   "metadata": {},
   "outputs": [],
   "source": []
  }
 ],
 "metadata": {
  "colab": {
   "collapsed_sections": [],
   "name": "Copy of census.ipynb",
   "provenance": []
  },
  "interpreter": {
   "hash": "3d846d80525939fc67cf21a1222fcca1daba31c8fddd2ba1792ca86a1af098cb"
  },
  "kernelspec": {
   "display_name": "Python 3 (ipykernel)",
   "language": "python",
   "name": "python3"
  },
  "language_info": {
   "codemirror_mode": {
    "name": "ipython",
    "version": 3
   },
   "file_extension": ".py",
   "mimetype": "text/x-python",
   "name": "python",
   "nbconvert_exporter": "python",
   "pygments_lexer": "ipython3",
   "version": "3.9.7"
  }
 },
 "nbformat": 4,
 "nbformat_minor": 1
}
